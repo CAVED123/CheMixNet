{
 "cells": [
  {
   "cell_type": "code",
   "execution_count": 1,
   "metadata": {},
   "outputs": [
    {
     "name": "stderr",
     "output_type": "stream",
     "text": [
      "Using TensorFlow backend.\n"
     ]
    }
   ],
   "source": [
    "from dl_util import *\n",
    "from ml_util import *\n",
    "\n",
    "from sklearn.preprocessing import StandardScaler\n",
    "from eval_class_util import *\n",
    "from run_eval import split_fit_plot_predict"
   ]
  },
  {
   "cell_type": "code",
   "execution_count": 2,
   "metadata": {},
   "outputs": [],
   "source": [
    "freesolv_sequences = loadNumpy('freesolv_sequences')\n",
    "freesolv_vocab_size, max_len_freesolv = 32, 83\n",
    "freesolv_maccs = loadNumpy('freesolv_maccs')\n",
    "freesolv_solvation_exp = loadNumpy(\"freesolv_solvation_exp\")\n",
    "freesolv_solvation_calc = loadNumpy(\"freesolv_solvation_calc\")"
   ]
  },
  {
   "cell_type": "code",
   "execution_count": 3,
   "metadata": {},
   "outputs": [],
   "source": [
    "freesolv_exp_standardized = standardize_1d(freesolv_solvation_exp)\n",
    "freesolv_calc_standardized = standardize_1d(freesolv_solvation_calc)"
   ]
  },
  {
   "cell_type": "code",
   "execution_count": 4,
   "metadata": {},
   "outputs": [
    {
     "data": {
      "text/plain": [
       "643"
      ]
     },
     "execution_count": 4,
     "metadata": {},
     "output_type": "execute_result"
    }
   ],
   "source": [
    "len(freesolv_sequences)"
   ]
  },
  {
   "cell_type": "code",
   "execution_count": 8,
   "metadata": {},
   "outputs": [],
   "source": [
    "# saveNumpy(freesolv_calc_standardized, \"freesolv_standardized_calc\")\n",
    "# saveNumpy(freesolv_exp_standardized, \"freesolv_standardized_exp\")"
   ]
  },
  {
   "cell_type": "code",
   "execution_count": 4,
   "metadata": {},
   "outputs": [
    {
     "name": "stdout",
     "output_type": "stream",
     "text": [
      "cnn_model\n",
      "WARNING:tensorflow:From /usr/local/lib/python2.7/dist-packages/tensorflow/python/util/deprecation.py:497: calling conv1d (from tensorflow.python.ops.nn_ops) with data_format=NHWC is deprecated and will be removed in a future version.\n",
      "Instructions for updating:\n",
      "`NHWC` for data_format is deprecated, use `NWC` instead\n",
      "_________________________________________________________________\n",
      "Layer (type)                 Output Shape              Param #   \n",
      "=================================================================\n",
      "embedding_1 (Embedding)      (None, 83, 32)            1024      \n",
      "_________________________________________________________________\n",
      "conv1d_1 (Conv1D)            (None, 83, 32)            3104      \n",
      "_________________________________________________________________\n",
      "max_pooling1d_1 (MaxPooling1 (None, 41, 32)            0         \n",
      "_________________________________________________________________\n",
      "conv1d_2 (Conv1D)            (None, 41, 32)            3104      \n",
      "_________________________________________________________________\n",
      "max_pooling1d_2 (MaxPooling1 (None, 20, 32)            0         \n",
      "_________________________________________________________________\n",
      "flatten_1 (Flatten)          (None, 640)               0         \n",
      "_________________________________________________________________\n",
      "dense_1 (Dense)              (None, 1)                 641       \n",
      "=================================================================\n",
      "Total params: 7,873\n",
      "Trainable params: 7,873\n",
      "Non-trainable params: 0\n",
      "_________________________________________________________________\n",
      "Train on 433 samples, validate on 49 samples\n",
      "Epoch 1/10\n",
      "433/433 [==============================] - 2s 4ms/step - loss: 0.1380 - mean_absolute_percentage_error: 41.7668 - val_loss: 0.0322 - val_mean_absolute_percentage_error: 145133.3224\n",
      "Epoch 2/10\n",
      "433/433 [==============================] - 0s 849us/step - loss: 0.0203 - mean_absolute_percentage_error: 20.3067 - val_loss: 0.0266 - val_mean_absolute_percentage_error: 127322.9276\n",
      "Epoch 3/10\n",
      "433/433 [==============================] - 0s 915us/step - loss: 0.0156 - mean_absolute_percentage_error: 17.6512 - val_loss: 0.0198 - val_mean_absolute_percentage_error: 105292.1039\n",
      "Epoch 4/10\n",
      "433/433 [==============================] - 0s 890us/step - loss: 0.0121 - mean_absolute_percentage_error: 15.0751 - val_loss: 0.0148 - val_mean_absolute_percentage_error: 82676.4112\n",
      "Epoch 5/10\n",
      "433/433 [==============================] - 0s 881us/step - loss: 0.0094 - mean_absolute_percentage_error: 12.7317 - val_loss: 0.0108 - val_mean_absolute_percentage_error: 65708.7155\n",
      "Epoch 6/10\n",
      "433/433 [==============================] - 0s 886us/step - loss: 0.0068 - mean_absolute_percentage_error: 10.4202 - val_loss: 0.0075 - val_mean_absolute_percentage_error: 43021.4728\n",
      "Epoch 7/10\n",
      "433/433 [==============================] - 0s 872us/step - loss: 0.0055 - mean_absolute_percentage_error: 9.1976 - val_loss: 0.0055 - val_mean_absolute_percentage_error: 32075.2219\n",
      "Epoch 8/10\n",
      "433/433 [==============================] - 0s 838us/step - loss: 0.0041 - mean_absolute_percentage_error: 7.9042 - val_loss: 0.0048 - val_mean_absolute_percentage_error: 25603.8902\n",
      "Epoch 9/10\n",
      "433/433 [==============================] - 0s 897us/step - loss: 0.0033 - mean_absolute_percentage_error: 7.0407 - val_loss: 0.0037 - val_mean_absolute_percentage_error: 12218.6674\n",
      "Epoch 10/10\n",
      "433/433 [==============================] - 0s 900us/step - loss: 0.0035 - mean_absolute_percentage_error: 6.9667 - val_loss: 0.0051 - val_mean_absolute_percentage_error: 15116.6099\n",
      "161/161 [==============================] - 0s 130us/step\n",
      "('Test mape%:', 8.16)\n",
      "('History saved successfully', 'history_freesolv_exp_cnn_model_dropout_0_epochs_10_batch_8_lr_0.001.pkl')\n",
      "Stats saved in model/stats_freesolv_exp_cnn_model_dropout_0_epochs_10_batch_8_lr_0.001\n"
     ]
    },
    {
     "data": {
      "text/plain": [
       "(array([0.44320446, 0.5320845 , 0.8569151 , 0.5803109 , 0.60103625,\n",
       "        0.746114  , 0.8529295 , 0.77839774, 0.74292547, 0.8748505 ,\n",
       "        0.6050219 , 0.8146672 , 0.8238342 , 0.38062972, 0.93463534,\n",
       "        0.69151056, 0.86329216, 0.75049824, 0.20884815, 0.5775209 ,\n",
       "        0.52929455, 0.7417298 , 0.53726584, 0.72698283, 0.8409725 ,\n",
       "        0.6779593 , 0.89996016, 0.9509765 , 0.74571544, 0.81506574,\n",
       "        0.5328816 , 0.8529295 , 0.7568753 , 0.9772818 , 0.7931447 ,\n",
       "        0.8397768 , 0.78995615, 0.7413312 , 0.81666005, 0.85651654,\n",
       "        0.7349542 , 0.7070546 , 0.54404145, 0.31367078, 0.7289757 ,\n",
       "        0.6907134 , 0.98684734, 0.46711838, 0.7357513 , 0.6046234 ,\n",
       "        0.4814667 , 0.7102431 , 0.8876046 , 0.2642487 , 0.91351134,\n",
       "        0.7445197 , 0.7393384 , 0.6954962 , 0.76524514, 0.8605022 ,\n",
       "        0.76524514, 0.8481467 , 0.39617378, 0.7178159 , 0.709446  ,\n",
       "        0.5874851 , 0.98804307, 0.73614985, 0.64487845, 0.69430053,\n",
       "        0.7668394 , 0.66201675, 0.88282186, 0.55878836, 0.8848147 ,\n",
       "        0.69629335, 0.6373057 , 0.8433639 , 0.76723796, 0.8505381 ,\n",
       "        0.7437226 , 0.9206855 , 0.6464727 , 0.76006377, 0.84695095,\n",
       "        0.9047429 , 0.78796333, 0.734157  , 0.85850936, 0.828617  ,\n",
       "        0.65284973, 0.73296136, 0.91749704, 0.8098844 , 0.7218015 ,\n",
       "        0.7596652 , 0.8597051 , 0.7146273 , 0.7620566 , 0.85651654,\n",
       "        0.84854525, 0.69669193, 0.78437626, 0.7560781 , 0.68911916,\n",
       "        0.64567554, 0.8521323 , 0.65284973, 0.7122359 , 0.3033081 ,\n",
       "        0.9900359 , 0.9438023 , 0.87923473, 0.9210841 , 0.61379033,\n",
       "        0.7301714 , 0.30490234, 0.7803906 , 0.63571143, 0.966122  ,\n",
       "        0.8182543 , 0.7544839 , 0.9601435 , 0.5528099 , 0.72698283,\n",
       "        0.33240336, 0.73375845, 0.7122359 , 0.90035874, 0.96652055,\n",
       "        0.94539654, 0.72578716, 0.7154245 , 0.83220404, 0.8294141 ,\n",
       "        0.42367476, 0.44998008, 0.22797927, 0.6958948 , 0.93463534,\n",
       "        0.76803505, 0.5161419 , 0.91351134, 0.96652055, 0.7939418 ,\n",
       "        0.77520925, 0.6337186 , 0.66679955, 0.3144679 , 0.74770826,\n",
       "        0.7568753 , 0.7365484 , 0.7493025 , 0.73854125, 0.84615386,\n",
       "        0.5296931 , 0.8357912 , 0.7130331 , 0.45237145, 0.7349542 ,\n",
       "        0.74093264], dtype=float32),\n",
       " array([0.5198608 , 0.44148302, 0.72273993, 0.5228383 , 0.57113314,\n",
       "        0.6662566 , 0.8583158 , 0.73852706, 0.6662466 , 0.8618112 ,\n",
       "        0.5499622 , 0.7772592 , 0.6905356 , 0.29546672, 0.9069881 ,\n",
       "        0.6887048 , 0.77216464, 0.7552746 , 0.1994569 , 0.6476541 ,\n",
       "        0.6084863 , 0.7389563 , 0.6135633 , 0.6361822 , 0.7674964 ,\n",
       "        0.60878134, 0.8652003 , 0.82956517, 0.7837691 , 0.75602007,\n",
       "        0.5195172 , 0.7561434 , 0.7708833 , 0.8599656 , 0.7090585 ,\n",
       "        0.7578833 , 0.7595565 , 0.61043453, 0.80123425, 0.79602426,\n",
       "        0.6663952 , 0.6966689 , 0.5506436 , 0.3115366 , 0.7061613 ,\n",
       "        0.70830464, 0.8647524 , 0.45127028, 0.67203784, 0.49056026,\n",
       "        0.50083643, 0.69297713, 0.90135455, 0.1940471 , 0.846186  ,\n",
       "        0.7369084 , 0.68248576, 0.69459003, 0.7866396 , 0.8429447 ,\n",
       "        0.6735013 , 0.74891424, 0.43522653, 0.6614852 , 0.7038488 ,\n",
       "        0.5644149 , 0.887296  , 0.78602713, 0.6479805 , 0.6848004 ,\n",
       "        0.7129642 , 0.6502893 , 0.85261106, 0.55019563, 0.8231358 ,\n",
       "        0.6959149 , 0.6006838 , 0.7814214 , 0.685423  , 0.85991377,\n",
       "        0.7554969 , 0.81564796, 0.6119157 , 0.8039731 , 0.7596265 ,\n",
       "        0.858145  , 0.77136445, 0.5956337 , 0.7533956 , 0.69597054,\n",
       "        0.41050878, 0.631789  , 0.83656126, 0.8006773 , 0.6556339 ,\n",
       "        0.77324903, 0.77440023, 0.6358593 , 0.7874433 , 0.8563662 ,\n",
       "        0.75459313, 0.6808868 , 0.7870124 , 0.7301832 , 0.6196342 ,\n",
       "        0.55807936, 0.8721127 , 0.6028642 , 0.70060724, 0.292977  ,\n",
       "        0.77590805, 0.80619985, 0.8404539 , 0.8518934 , 0.58063024,\n",
       "        0.6848647 , 0.19353414, 0.70224905, 0.62806463, 0.7787094 ,\n",
       "        0.72481793, 0.7669321 , 0.83967257, 0.5933216 , 0.7421773 ,\n",
       "        0.48808745, 0.620351  , 0.6896144 , 0.85305285, 0.79707927,\n",
       "        0.86787605, 0.64194745, 0.7527709 , 0.79555404, 0.72333324,\n",
       "        0.4628378 , 0.45731926, 0.27706406, 0.7017341 , 0.70926964,\n",
       "        0.7394929 , 0.51019514, 0.83550143, 0.86276346, 0.7762466 ,\n",
       "        0.7065953 , 0.5821572 , 0.6528781 , 0.37956154, 0.80156404,\n",
       "        0.6681233 , 0.69370556, 0.7600697 , 0.77613634, 0.88609606,\n",
       "        0.50133705, 0.7492389 , 0.6692389 , 0.45312983, 0.59052855,\n",
       "        0.6948246 ], dtype=float32))"
      ]
     },
     "execution_count": 4,
     "metadata": {},
     "output_type": "execute_result"
    },
    {
     "data": {
      "image/png": "[encoded data removed]",
      "text/plain": [
       "<Figure size 432x288 with 1 Axes>"
      ]
     },
     "metadata": {},
     "output_type": "display_data"
    }
   ],
   "source": [
    "split_fit_plot_predict(cnn_model,  freesolv_sequences, freesolv_maccs, freesolv_calc_standardized, freesolv_vocab_size, max_len_freesolv, \"freesolv_exp\",\\\n",
    "                      batch_size=8, epochs=10)"
   ]
  },
  {
   "cell_type": "code",
   "execution_count": 30,
   "metadata": {},
   "outputs": [
    {
     "name": "stdout",
     "output_type": "stream",
     "text": [
      "cnn_model\n",
      "_________________________________________________________________\n",
      "Layer (type)                 Output Shape              Param #   \n",
      "=================================================================\n",
      "embedding_8 (Embedding)      (None, 83, 32)            1024      \n",
      "_________________________________________________________________\n",
      "conv1d_9 (Conv1D)            (None, 83, 32)            3104      \n",
      "_________________________________________________________________\n",
      "max_pooling1d_9 (MaxPooling1 (None, 41, 32)            0         \n",
      "_________________________________________________________________\n",
      "conv1d_10 (Conv1D)           (None, 41, 32)            3104      \n",
      "_________________________________________________________________\n",
      "max_pooling1d_10 (MaxPooling (None, 20, 32)            0         \n",
      "_________________________________________________________________\n",
      "flatten_5 (Flatten)          (None, 640)               0         \n",
      "_________________________________________________________________\n",
      "dense_12 (Dense)             (None, 1)                 641       \n",
      "=================================================================\n",
      "Total params: 7,873\n",
      "Trainable params: 7,873\n",
      "Non-trainable params: 0\n",
      "_________________________________________________________________\n",
      "Train on 433 samples, validate on 49 samples\n",
      "Epoch 1/40\n",
      "433/433 [==============================] - 1s 3ms/step - loss: 0.1833 - mean_absolute_percentage_error: 1774424.9578 - val_loss: 0.0241 - val_mean_absolute_percentage_error: 36.2616\n",
      "Epoch 2/40\n",
      "433/433 [==============================] - 0s 972us/step - loss: 0.0140 - mean_absolute_percentage_error: 1318703.1295 - val_loss: 0.0165 - val_mean_absolute_percentage_error: 29.0402\n",
      "Epoch 3/40\n",
      "433/433 [==============================] - 0s 984us/step - loss: 0.0123 - mean_absolute_percentage_error: 1010586.1155 - val_loss: 0.0162 - val_mean_absolute_percentage_error: 29.2529\n",
      "Epoch 4/40\n",
      "433/433 [==============================] - 0s 927us/step - loss: 0.0087 - mean_absolute_percentage_error: 991174.5046 - val_loss: 0.0128 - val_mean_absolute_percentage_error: 25.3962\n",
      "Epoch 5/40\n",
      "433/433 [==============================] - 0s 937us/step - loss: 0.0075 - mean_absolute_percentage_error: 839360.7056 - val_loss: 0.0105 - val_mean_absolute_percentage_error: 22.7887\n",
      "Epoch 6/40\n",
      "433/433 [==============================] - 0s 959us/step - loss: 0.0065 - mean_absolute_percentage_error: 639054.6057 - val_loss: 0.0091 - val_mean_absolute_percentage_error: 20.0036\n",
      "Epoch 7/40\n",
      "433/433 [==============================] - 0s 989us/step - loss: 0.0059 - mean_absolute_percentage_error: 457965.2697 - val_loss: 0.0073 - val_mean_absolute_percentage_error: 16.9000\n",
      "Epoch 8/40\n",
      "433/433 [==============================] - 0s 965us/step - loss: 0.0057 - mean_absolute_percentage_error: 368850.4443 - val_loss: 0.0096 - val_mean_absolute_percentage_error: 20.1768\n",
      "Epoch 9/40\n",
      "433/433 [==============================] - 0s 949us/step - loss: 0.0044 - mean_absolute_percentage_error: 369116.4623 - val_loss: 0.0058 - val_mean_absolute_percentage_error: 14.3943\n",
      "Epoch 10/40\n",
      "433/433 [==============================] - 0s 982us/step - loss: 0.0042 - mean_absolute_percentage_error: 300353.5432 - val_loss: 0.0052 - val_mean_absolute_percentage_error: 12.6448\n",
      "Epoch 11/40\n",
      "433/433 [==============================] - 0s 964us/step - loss: 0.0039 - mean_absolute_percentage_error: 120805.7797 - val_loss: 0.0047 - val_mean_absolute_percentage_error: 12.1510\n",
      "Epoch 12/40\n",
      "433/433 [==============================] - 0s 949us/step - loss: 0.0036 - mean_absolute_percentage_error: 240193.4704 - val_loss: 0.0054 - val_mean_absolute_percentage_error: 12.8418\n",
      "Epoch 13/40\n",
      "433/433 [==============================] - 0s 965us/step - loss: 0.0031 - mean_absolute_percentage_error: 140888.9575 - val_loss: 0.0049 - val_mean_absolute_percentage_error: 12.0565\n",
      "Epoch 14/40\n",
      "433/433 [==============================] - 0s 974us/step - loss: 0.0030 - mean_absolute_percentage_error: 202879.0275 - val_loss: 0.0069 - val_mean_absolute_percentage_error: 15.3813\n",
      "Epoch 15/40\n",
      "433/433 [==============================] - 0s 962us/step - loss: 0.0026 - mean_absolute_percentage_error: 21722.0607 - val_loss: 0.0039 - val_mean_absolute_percentage_error: 10.3899\n",
      "Epoch 16/40\n",
      "433/433 [==============================] - 0s 977us/step - loss: 0.0021 - mean_absolute_percentage_error: 8780.6640 - val_loss: 0.0035 - val_mean_absolute_percentage_error: 10.3137\n",
      "Epoch 17/40\n",
      "433/433 [==============================] - 0s 946us/step - loss: 0.0021 - mean_absolute_percentage_error: 170049.5444 - val_loss: 0.0035 - val_mean_absolute_percentage_error: 9.7234\n",
      "Epoch 18/40\n",
      "433/433 [==============================] - 0s 971us/step - loss: 0.0017 - mean_absolute_percentage_error: 32248.6682 - val_loss: 0.0034 - val_mean_absolute_percentage_error: 11.0554\n",
      "Epoch 19/40\n",
      "433/433 [==============================] - 0s 930us/step - loss: 0.0016 - mean_absolute_percentage_error: 60845.6513 - val_loss: 0.0035 - val_mean_absolute_percentage_error: 9.2243\n",
      "Epoch 20/40\n",
      "433/433 [==============================] - 0s 964us/step - loss: 0.0015 - mean_absolute_percentage_error: 23639.8040 - val_loss: 0.0032 - val_mean_absolute_percentage_error: 10.7761\n",
      "Epoch 21/40\n",
      "433/433 [==============================] - 0s 962us/step - loss: 0.0013 - mean_absolute_percentage_error: 17042.3000 - val_loss: 0.0034 - val_mean_absolute_percentage_error: 10.4917\n",
      "Epoch 22/40\n",
      "433/433 [==============================] - 0s 958us/step - loss: 0.0017 - mean_absolute_percentage_error: 171004.0949 - val_loss: 0.0030 - val_mean_absolute_percentage_error: 9.0497\n",
      "Epoch 23/40\n",
      "433/433 [==============================] - 0s 925us/step - loss: 0.0011 - mean_absolute_percentage_error: 33609.4322 - val_loss: 0.0034 - val_mean_absolute_percentage_error: 8.8399\n",
      "Epoch 24/40\n",
      "433/433 [==============================] - 0s 958us/step - loss: 0.0016 - mean_absolute_percentage_error: 72135.6045 - val_loss: 0.0031 - val_mean_absolute_percentage_error: 9.8817\n",
      "Epoch 25/40\n",
      "433/433 [==============================] - 0s 957us/step - loss: 9.7730e-04 - mean_absolute_percentage_error: 67557.3069 - val_loss: 0.0029 - val_mean_absolute_percentage_error: 9.2989\n",
      "Epoch 26/40\n",
      "433/433 [==============================] - 0s 970us/step - loss: 8.7535e-04 - mean_absolute_percentage_error: 18185.3036 - val_loss: 0.0035 - val_mean_absolute_percentage_error: 10.9801\n",
      "Epoch 27/40\n",
      "433/433 [==============================] - 0s 913us/step - loss: 9.0558e-04 - mean_absolute_percentage_error: 23622.2079 - val_loss: 0.0035 - val_mean_absolute_percentage_error: 10.0025\n",
      "Epoch 28/40\n",
      "433/433 [==============================] - 0s 963us/step - loss: 8.5969e-04 - mean_absolute_percentage_error: 59333.2385 - val_loss: 0.0031 - val_mean_absolute_percentage_error: 11.2716\n",
      "Epoch 29/40\n",
      "433/433 [==============================] - 0s 947us/step - loss: 6.0085e-04 - mean_absolute_percentage_error: 22142.2754 - val_loss: 0.0028 - val_mean_absolute_percentage_error: 9.3270\n",
      "Epoch 30/40\n",
      "433/433 [==============================] - 0s 993us/step - loss: 6.0462e-04 - mean_absolute_percentage_error: 3062.0910 - val_loss: 0.0032 - val_mean_absolute_percentage_error: 10.5197\n",
      "Epoch 31/40\n",
      "433/433 [==============================] - 0s 956us/step - loss: 5.4354e-04 - mean_absolute_percentage_error: 9462.8014 - val_loss: 0.0033 - val_mean_absolute_percentage_error: 10.8387\n",
      "Epoch 32/40\n",
      "433/433 [==============================] - 0s 985us/step - loss: 4.7084e-04 - mean_absolute_percentage_error: 62276.3556 - val_loss: 0.0032 - val_mean_absolute_percentage_error: 9.6688\n",
      "Epoch 33/40\n",
      "433/433 [==============================] - 0s 973us/step - loss: 5.5428e-04 - mean_absolute_percentage_error: 8764.9038 - val_loss: 0.0032 - val_mean_absolute_percentage_error: 9.0313\n",
      "Epoch 34/40\n",
      "433/433 [==============================] - 0s 918us/step - loss: 5.8256e-04 - mean_absolute_percentage_error: 57005.5869 - val_loss: 0.0033 - val_mean_absolute_percentage_error: 9.1114\n",
      "161/161 [==============================] - 0s 109us/step\n",
      "('Test mape%:', 6.8968143788924126)\n",
      "('History saved successfully', 'history_freesolv_exp_cnn_model_dropout_0_epochs_40_batch_8_lr_0.001.pkl')\n",
      "Stats saved in model/stats_freesolv_exp_cnn_model_dropout_0_epochs_40_batch_8_lr_0.001\n"
     ]
    },
    {
     "data": {
      "image/png": "[encoded data removed]",
      "text/plain": [
       "<Figure size 432x288 with 1 Axes>"
      ]
     },
     "metadata": {},
     "output_type": "display_data"
    }
   ],
   "source": [
    "split_fit_plot_predict(cnn_model,  freesolv_sequences, freesolv_maccs, freesolv_exp_standardized, freesolv_vocab_size, max_len_freesolv, \"freesolv_exp\",\\\n",
    "                      batch_size=8, epochs=40)"
   ]
  },
  {
   "cell_type": "code",
   "execution_count": null,
   "metadata": {},
   "outputs": [],
   "source": []
  }
 ],
 "metadata": {
  "kernelspec": {
   "display_name": "Python 2",
   "language": "python",
   "name": "python2"
  },
  "language_info": {
   "codemirror_mode": {
    "name": "ipython",
    "version": 2
   },
   "file_extension": ".py",
   "mimetype": "text/x-python",
   "name": "python",
   "nbconvert_exporter": "python",
   "pygments_lexer": "ipython2",
   "version": "2.7.12"
  }
 },
 "nbformat": 4,
 "nbformat_minor": 2
}
