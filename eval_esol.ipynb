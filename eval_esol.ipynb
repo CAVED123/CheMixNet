{
 "cells": [
  {
   "cell_type": "markdown",
   "metadata": {},
   "source": [
    "Cheminformatics Datasets \n",
    "https://github.com/GLambard/Molecules_Dataset_Collection/tree/master/latest"
   ]
  },
  {
   "cell_type": "code",
   "execution_count": 1,
   "metadata": {},
   "outputs": [
    {
     "name": "stderr",
     "output_type": "stream",
     "text": [
      "Using TensorFlow backend.\n"
     ]
    }
   ],
   "source": [
    "from dl_util import *\n",
    "from ml_util import *\n",
    "\n",
    "from sklearn.preprocessing import StandardScaler\n",
    "from eval_class_util import *\n",
    "from run_eval import split_fit_plot_predict"
   ]
  },
  {
   "cell_type": "markdown",
   "metadata": {},
   "source": [
    "### Extracting SMILES and converting into sequence "
   ]
  },
  {
   "cell_type": "code",
   "execution_count": 2,
   "metadata": {},
   "outputs": [],
   "source": [
    "esol = pd.read_csv('eval_datasets/esol_v2.csv')"
   ]
  },
  {
   "cell_type": "code",
   "execution_count": 3,
   "metadata": {},
   "outputs": [],
   "source": [
    "esol_smiles = esol['smiles'].tolist()"
   ]
  },
  {
   "cell_type": "code",
   "execution_count": 4,
   "metadata": {},
   "outputs": [
    {
     "data": {
      "text/plain": [
       "(33, 98)"
      ]
     },
     "execution_count": 4,
     "metadata": {},
     "output_type": "execute_result"
    }
   ],
   "source": [
    "len_esol_smiles = []\n",
    "for SMILE in esol_smiles:\n",
    "    len_esol_smiles += [len(SMILE)]\n",
    "    \n",
    "max_len_esol = max(len_esol_smiles)\n",
    "\n",
    "esol_vocab_size = generate_onehot_encoding(esol_smiles,'vocab_size')\n",
    "esol_vocab_size, max_len_esol"
   ]
  },
  {
   "cell_type": "code",
   "execution_count": 5,
   "metadata": {},
   "outputs": [],
   "source": [
    "esol_encodings = generate_onehot_encoding(esol_smiles)\n",
    "esol_sequences = sequence.pad_sequences(esol_encodings, maxlen=max_len_esol)"
   ]
  },
  {
   "cell_type": "code",
   "execution_count": 6,
   "metadata": {},
   "outputs": [],
   "source": [
    "#saveNumpy(esol_sequences, 'esol_sequences')\n",
    "#esol_sequences = loadNumpy(\"esol_sequences\")#X1 is esol_sequences\n",
    "esol_maccs = loadNumpy('esol_maccs') #X2\n",
    "esol_solubility = loadNumpy('esol_solubility') #Y"
   ]
  },
  {
   "cell_type": "code",
   "execution_count": 7,
   "metadata": {},
   "outputs": [],
   "source": [
    "esol_solubility_standard = standardize_1d(esol_solubility)\n",
    "esol_solubility_normal = normalize_1d(esol_solubility)\n",
    "# saveNumpy(esol_solubility_standard, 'esol_standardized_solubility')"
   ]
  },
  {
   "cell_type": "code",
   "execution_count": 18,
   "metadata": {},
   "outputs": [
    {
     "name": "stdout",
     "output_type": "stream",
     "text": [
      "_________________________________________________________________\n",
      "Layer (type)                 Output Shape              Param #   \n",
      "=================================================================\n",
      "embedding_5 (Embedding)      (None, 98, 32)            1056      \n",
      "_________________________________________________________________\n",
      "conv1d_9 (Conv1D)            (None, 98, 32)            3104      \n",
      "_________________________________________________________________\n",
      "max_pooling1d_9 (MaxPooling1 (None, 49, 32)            0         \n",
      "_________________________________________________________________\n",
      "conv1d_10 (Conv1D)           (None, 49, 32)            3104      \n",
      "_________________________________________________________________\n",
      "max_pooling1d_10 (MaxPooling (None, 24, 32)            0         \n",
      "_________________________________________________________________\n",
      "flatten_4 (Flatten)          (None, 768)               0         \n",
      "_________________________________________________________________\n",
      "dense_2 (Dense)              (None, 1)                 769       \n",
      "=================================================================\n",
      "Total params: 8,033\n",
      "Trainable params: 8,033\n",
      "Non-trainable params: 0\n",
      "_________________________________________________________________\n"
     ]
    }
   ],
   "source": [
    "layers=2\n",
    "optimizer =\"adam\"\n",
    "model_type =\"regression\"\n",
    "model = Sequential()\n",
    "model.add(Embedding(esol_vocab_size,  32, input_length=max_len_esol))\n",
    "model.add(Conv1D(filters=32, kernel_size=3, padding='same', activation='relu'))\n",
    "model.add(MaxPooling1D(pool_size=2))\n",
    "model.add(Conv1D(filters=32, kernel_size=3, padding='same', activation='relu'))\n",
    "model.add(MaxPooling1D(pool_size=2))\n",
    "if layers==3:\n",
    "    model.add(Conv1D(filters=32, kernel_size=3, padding='same', activation='relu'))\n",
    "    model.add(MaxPooling1D(pool_size=2))\n",
    "model.add(Flatten())\n",
    "# if optimizer == \"adam\" and lr!= 0.001:\n",
    "#     print(\"Setting learning rate to\"+str(lr))\n",
    "#     optimizer = tf.train.AdamOptimizer(lr)\n",
    "\n",
    "if model_type == \"classification\":\n",
    "    model.add(Dense(1,activation='sigmoid'))\n",
    "    model.compile(loss='binary_crossentropy',optimizer=optimizer,metrics=['acc', precision,recall,auc])\n",
    "else:\n",
    "    model.add(Dense(1))\n",
    "    model.compile(loss='mse',optimizer=optimizer, metrics=['mape'])\n",
    "model.summary()"
   ]
  },
  {
   "cell_type": "code",
   "execution_count": 19,
   "metadata": {},
   "outputs": [],
   "source": [
    "X1_train, X1_test, y_train, y_test = train_test_split(esol_sequences, esol_solubility_standard, random_state=1024)"
   ]
  },
  {
   "cell_type": "code",
   "execution_count": 22,
   "metadata": {},
   "outputs": [
    {
     "name": "stdout",
     "output_type": "stream",
     "text": [
      "Train on 761 samples, validate on 85 samples\n",
      "Epoch 1/40\n",
      "761/761 [==============================] - 2s 2ms/step - loss: 0.0295 - mean_absolute_percentage_error: 24.9151 - val_loss: 0.0050 - val_mean_absolute_percentage_error: 9.8132\n",
      "Epoch 2/40\n",
      "761/761 [==============================] - 1s 2ms/step - loss: 0.0050 - mean_absolute_percentage_error: 12.0236 - val_loss: 0.0024 - val_mean_absolute_percentage_error: 6.4121\n",
      "Epoch 3/40\n",
      "761/761 [==============================] - 1s 2ms/step - loss: 0.0032 - mean_absolute_percentage_error: 9.3108 - val_loss: 0.0016 - val_mean_absolute_percentage_error: 5.1381\n",
      "Epoch 4/40\n",
      "761/761 [==============================] - 1s 2ms/step - loss: 0.0028 - mean_absolute_percentage_error: 8.7759 - val_loss: 0.0029 - val_mean_absolute_percentage_error: 7.3323\n",
      "Epoch 5/40\n",
      "761/761 [==============================] - 1s 2ms/step - loss: 0.0019 - mean_absolute_percentage_error: 7.0532 - val_loss: 0.0015 - val_mean_absolute_percentage_error: 4.9594\n",
      "Epoch 6/40\n",
      "761/761 [==============================] - 1s 2ms/step - loss: 0.0015 - mean_absolute_percentage_error: 6.6633 - val_loss: 0.0020 - val_mean_absolute_percentage_error: 5.7743\n",
      "Epoch 7/40\n",
      "761/761 [==============================] - 1s 2ms/step - loss: 0.0015 - mean_absolute_percentage_error: 5.6096 - val_loss: 0.0015 - val_mean_absolute_percentage_error: 5.0133\n",
      "Epoch 8/40\n",
      "761/761 [==============================] - 1s 2ms/step - loss: 0.0014 - mean_absolute_percentage_error: 5.9673 - val_loss: 0.0017 - val_mean_absolute_percentage_error: 5.9303\n",
      "Epoch 9/40\n",
      "761/761 [==============================] - 1s 2ms/step - loss: 0.0013 - mean_absolute_percentage_error: 5.2090 - val_loss: 0.0021 - val_mean_absolute_percentage_error: 6.1718\n",
      "Epoch 10/40\n",
      "761/761 [==============================] - 1s 2ms/step - loss: 9.6179e-04 - mean_absolute_percentage_error: 4.3125 - val_loss: 0.0013 - val_mean_absolute_percentage_error: 4.8097\n",
      "Epoch 11/40\n",
      "761/761 [==============================] - 1s 2ms/step - loss: 8.4386e-04 - mean_absolute_percentage_error: 4.6580 - val_loss: 0.0015 - val_mean_absolute_percentage_error: 4.5137\n",
      "Epoch 12/40\n",
      "761/761 [==============================] - 1s 2ms/step - loss: 8.8554e-04 - mean_absolute_percentage_error: 4.5033 - val_loss: 0.0012 - val_mean_absolute_percentage_error: 4.1965\n",
      "Epoch 13/40\n",
      "761/761 [==============================] - 1s 2ms/step - loss: 9.8601e-04 - mean_absolute_percentage_error: 5.1865 - val_loss: 0.0013 - val_mean_absolute_percentage_error: 4.8773\n",
      "Epoch 14/40\n",
      "761/761 [==============================] - 1s 2ms/step - loss: 9.9901e-04 - mean_absolute_percentage_error: 4.5204 - val_loss: 0.0011 - val_mean_absolute_percentage_error: 4.4111\n",
      "Epoch 15/40\n",
      "761/761 [==============================] - 1s 2ms/step - loss: 8.7976e-04 - mean_absolute_percentage_error: 4.6809 - val_loss: 0.0011 - val_mean_absolute_percentage_error: 4.1953\n",
      "Epoch 16/40\n",
      "761/761 [==============================] - 1s 2ms/step - loss: 7.6075e-04 - mean_absolute_percentage_error: 3.9514 - val_loss: 0.0012 - val_mean_absolute_percentage_error: 4.1904\n",
      "Epoch 17/40\n",
      "761/761 [==============================] - 1s 2ms/step - loss: 8.3397e-04 - mean_absolute_percentage_error: 4.4779 - val_loss: 0.0037 - val_mean_absolute_percentage_error: 8.4792\n",
      "Epoch 18/40\n",
      "761/761 [==============================] - 1s 2ms/step - loss: 0.0011 - mean_absolute_percentage_error: 5.2593 - val_loss: 0.0012 - val_mean_absolute_percentage_error: 4.5543\n",
      "Epoch 19/40\n",
      "761/761 [==============================] - 1s 2ms/step - loss: 6.7976e-04 - mean_absolute_percentage_error: 4.0522 - val_loss: 0.0016 - val_mean_absolute_percentage_error: 5.5311\n",
      "Epoch 20/40\n",
      "761/761 [==============================] - 1s 2ms/step - loss: 5.5103e-04 - mean_absolute_percentage_error: 3.4755 - val_loss: 0.0016 - val_mean_absolute_percentage_error: 5.1821\n",
      "Epoch 21/40\n",
      "761/761 [==============================] - 1s 2ms/step - loss: 7.3113e-04 - mean_absolute_percentage_error: 4.1080 - val_loss: 0.0014 - val_mean_absolute_percentage_error: 5.3772\n",
      "Epoch 22/40\n",
      "761/761 [==============================] - 1s 2ms/step - loss: 6.7663e-04 - mean_absolute_percentage_error: 3.9445 - val_loss: 0.0013 - val_mean_absolute_percentage_error: 4.7989\n",
      "Epoch 23/40\n",
      "761/761 [==============================] - 1s 2ms/step - loss: 7.5646e-04 - mean_absolute_percentage_error: 4.1260 - val_loss: 0.0016 - val_mean_absolute_percentage_error: 5.2673\n",
      "Epoch 24/40\n",
      "761/761 [==============================] - 1s 2ms/step - loss: 7.4198e-04 - mean_absolute_percentage_error: 4.0078 - val_loss: 0.0012 - val_mean_absolute_percentage_error: 4.3807\n",
      "Epoch 25/40\n",
      "761/761 [==============================] - 1s 2ms/step - loss: 5.5860e-04 - mean_absolute_percentage_error: 3.4534 - val_loss: 0.0017 - val_mean_absolute_percentage_error: 5.4413\n",
      "Epoch 26/40\n",
      "761/761 [==============================] - 1s 2ms/step - loss: 6.2360e-04 - mean_absolute_percentage_error: 3.3812 - val_loss: 0.0010 - val_mean_absolute_percentage_error: 3.6592\n",
      "Epoch 27/40\n",
      "761/761 [==============================] - 1s 2ms/step - loss: 5.7258e-04 - mean_absolute_percentage_error: 3.6815 - val_loss: 0.0018 - val_mean_absolute_percentage_error: 5.6362\n",
      "Epoch 28/40\n",
      "761/761 [==============================] - 1s 2ms/step - loss: 5.8909e-04 - mean_absolute_percentage_error: 3.4160 - val_loss: 0.0013 - val_mean_absolute_percentage_error: 4.6645\n",
      "Epoch 29/40\n",
      "761/761 [==============================] - 1s 2ms/step - loss: 5.1086e-04 - mean_absolute_percentage_error: 3.2245 - val_loss: 0.0013 - val_mean_absolute_percentage_error: 4.2935\n",
      "Epoch 30/40\n",
      "761/761 [==============================] - 1s 2ms/step - loss: 5.4712e-04 - mean_absolute_percentage_error: 3.3096 - val_loss: 0.0021 - val_mean_absolute_percentage_error: 6.5570\n",
      "Epoch 31/40\n",
      "761/761 [==============================] - 1s 2ms/step - loss: 7.0207e-04 - mean_absolute_percentage_error: 3.9981 - val_loss: 0.0023 - val_mean_absolute_percentage_error: 5.6201\n",
      "Epoch 32/40\n",
      "761/761 [==============================] - 1s 2ms/step - loss: 7.0786e-04 - mean_absolute_percentage_error: 3.7303 - val_loss: 0.0013 - val_mean_absolute_percentage_error: 4.5645\n",
      "Epoch 33/40\n",
      "761/761 [==============================] - 1s 2ms/step - loss: 6.2724e-04 - mean_absolute_percentage_error: 3.8565 - val_loss: 0.0025 - val_mean_absolute_percentage_error: 7.1098\n",
      "Epoch 34/40\n",
      "761/761 [==============================] - 1s 2ms/step - loss: 7.0094e-04 - mean_absolute_percentage_error: 3.6462 - val_loss: 0.0018 - val_mean_absolute_percentage_error: 5.8380\n",
      "Epoch 35/40\n",
      "761/761 [==============================] - 1s 2ms/step - loss: 8.5280e-04 - mean_absolute_percentage_error: 4.6849 - val_loss: 0.0014 - val_mean_absolute_percentage_error: 5.1484\n",
      "Epoch 36/40\n",
      "761/761 [==============================] - 1s 2ms/step - loss: 6.5114e-04 - mean_absolute_percentage_error: 4.0022 - val_loss: 0.0015 - val_mean_absolute_percentage_error: 5.7171\n",
      "Epoch 37/40\n",
      "761/761 [==============================] - 1s 2ms/step - loss: 5.9036e-04 - mean_absolute_percentage_error: 4.0134 - val_loss: 0.0015 - val_mean_absolute_percentage_error: 5.3000\n",
      "Epoch 38/40\n",
      "761/761 [==============================] - 1s 2ms/step - loss: 7.9207e-04 - mean_absolute_percentage_error: 4.4448 - val_loss: 8.9923e-04 - val_mean_absolute_percentage_error: 3.7155\n",
      "Epoch 39/40\n",
      "761/761 [==============================] - 1s 2ms/step - loss: 4.0095e-04 - mean_absolute_percentage_error: 3.1235 - val_loss: 9.1252e-04 - val_mean_absolute_percentage_error: 3.8889\n",
      "Epoch 40/40\n",
      "761/761 [==============================] - 1s 2ms/step - loss: 3.6088e-04 - mean_absolute_percentage_error: 2.6163 - val_loss: 0.0011 - val_mean_absolute_percentage_error: 4.0780\n"
     ]
    },
    {
     "data": {
      "text/plain": [
       "<keras.callbacks.History at 0x7fd60abcc050>"
      ]
     },
     "execution_count": 22,
     "metadata": {},
     "output_type": "execute_result"
    }
   ],
   "source": [
    "model.fit(X1_train, y_train, shuffle=True, validation_split=0.1,\\\n",
    "                        epochs=40, batch_size=4, verbose=1)"
   ]
  },
  {
   "cell_type": "code",
   "execution_count": 44,
   "metadata": {},
   "outputs": [],
   "source": [
    "y_predict = model.predict(X1_test).reshape(1,-1)[0]"
   ]
  },
  {
   "cell_type": "code",
   "execution_count": 42,
   "metadata": {},
   "outputs": [],
   "source": [
    "y_test = np.array(y_test)"
   ]
  },
  {
   "cell_type": "code",
   "execution_count": 49,
   "metadata": {},
   "outputs": [
    {
     "data": {
      "text/plain": [
       "(numpy.ndarray, numpy.ndarray)"
      ]
     },
     "execution_count": 49,
     "metadata": {},
     "output_type": "execute_result"
    }
   ],
   "source": [
    "type(y_predict), type(y_test)"
   ]
  },
  {
   "cell_type": "code",
   "execution_count": 27,
   "metadata": {},
   "outputs": [
    {
     "data": {
      "text/plain": [
       "[0.8193273417956083,\n",
       " 0.562308903919207,\n",
       " 0.8603724636338368,\n",
       " 0.6301306402297786,\n",
       " 0.7172241267488187]"
      ]
     },
     "execution_count": 27,
     "metadata": {},
     "output_type": "execute_result"
    }
   ],
   "source": [
    "y_test[:5]"
   ]
  },
  {
   "cell_type": "code",
   "execution_count": 8,
   "metadata": {},
   "outputs": [
    {
     "name": "stdout",
     "output_type": "stream",
     "text": [
      "cnn_model\n",
      "WARNING:tensorflow:From /usr/local/lib/python2.7/dist-packages/tensorflow/python/util/deprecation.py:497: calling conv1d (from tensorflow.python.ops.nn_ops) with data_format=NHWC is deprecated and will be removed in a future version.\n",
      "Instructions for updating:\n",
      "`NHWC` for data_format is deprecated, use `NWC` instead\n",
      "_________________________________________________________________\n",
      "Layer (type)                 Output Shape              Param #   \n",
      "=================================================================\n",
      "embedding_1 (Embedding)      (None, 98, 32)            1056      \n",
      "_________________________________________________________________\n",
      "conv1d_1 (Conv1D)            (None, 98, 32)            3104      \n",
      "_________________________________________________________________\n",
      "max_pooling1d_1 (MaxPooling1 (None, 49, 32)            0         \n",
      "_________________________________________________________________\n",
      "conv1d_2 (Conv1D)            (None, 49, 32)            3104      \n",
      "_________________________________________________________________\n",
      "max_pooling1d_2 (MaxPooling1 (None, 24, 32)            0         \n",
      "_________________________________________________________________\n",
      "flatten_1 (Flatten)          (None, 768)               0         \n",
      "_________________________________________________________________\n",
      "dense_1 (Dense)              (None, 1)                 769       \n",
      "=================================================================\n",
      "Total params: 8,033\n",
      "Trainable params: 8,033\n",
      "Non-trainable params: 0\n",
      "_________________________________________________________________\n",
      "Train on 761 samples, validate on 85 samples\n",
      "Epoch 1/10\n",
      "761/761 [==============================] - 3s 3ms/step - loss: 0.0345 - mean_absolute_percentage_error: 29.6910 - val_loss: 0.0049 - val_mean_absolute_percentage_error: 10.3243\n",
      "Epoch 2/10\n",
      "761/761 [==============================] - 1s 2ms/step - loss: 0.0054 - mean_absolute_percentage_error: 12.0102 - val_loss: 0.0029 - val_mean_absolute_percentage_error: 7.2247\n",
      "Epoch 3/10\n",
      "761/761 [==============================] - 1s 2ms/step - loss: 0.0039 - mean_absolute_percentage_error: 9.0701 - val_loss: 0.0020 - val_mean_absolute_percentage_error: 5.8489\n",
      "Epoch 4/10\n",
      "761/761 [==============================] - 1s 2ms/step - loss: 0.0027 - mean_absolute_percentage_error: 7.8105 - val_loss: 0.0046 - val_mean_absolute_percentage_error: 10.1544\n",
      "Epoch 5/10\n",
      "761/761 [==============================] - 1s 2ms/step - loss: 0.0022 - mean_absolute_percentage_error: 7.1018 - val_loss: 0.0017 - val_mean_absolute_percentage_error: 5.7479\n",
      "Epoch 6/10\n",
      "761/761 [==============================] - 1s 2ms/step - loss: 0.0018 - mean_absolute_percentage_error: 6.2539 - val_loss: 0.0021 - val_mean_absolute_percentage_error: 6.2329\n",
      "Epoch 7/10\n",
      "761/761 [==============================] - 1s 2ms/step - loss: 0.0013 - mean_absolute_percentage_error: 5.3584 - val_loss: 0.0016 - val_mean_absolute_percentage_error: 5.3698\n",
      "Epoch 8/10\n",
      "761/761 [==============================] - 1s 2ms/step - loss: 0.0013 - mean_absolute_percentage_error: 5.6180 - val_loss: 0.0017 - val_mean_absolute_percentage_error: 5.1842\n",
      "Epoch 9/10\n",
      "761/761 [==============================] - 1s 2ms/step - loss: 0.0015 - mean_absolute_percentage_error: 5.9957 - val_loss: 0.0023 - val_mean_absolute_percentage_error: 6.1075\n",
      "Epoch 10/10\n",
      "761/761 [==============================] - 1s 2ms/step - loss: 0.0015 - mean_absolute_percentage_error: 5.8850 - val_loss: 0.0018 - val_mean_absolute_percentage_error: 5.7964\n",
      "282/282 [==============================] - 0s 116us/step\n",
      "('Test mape%:', 6.8)\n",
      "('eval_mape%', 673984.5756327447)\n",
      "('mae', 0.038700525)\n",
      "('y_test', array([0.81932735, 0.5623089 , 0.8603725 , 0.63013065, 0.7172241 ],\n",
      "      dtype=float32))\n",
      "('y_predict', array([0.81346005, 0.57375336, 0.90936947, 0.65371716, 0.72972506],\n",
      "      dtype=float32))\n",
      "(282, 282)\n",
      "('History saved successfully', 'history_esol_cnn_model_dropout_0_epochs_10_batch_4_lr_0.001.pkl')\n",
      "Stats saved in model/stats_esol_cnn_model_dropout_0_epochs_10_batch_4_lr_0.001\n"
     ]
    },
    {
     "data": {
      "image/png": "[encoded data removed]",
      "text/plain": [
       "<Figure size 432x288 with 1 Axes>"
      ]
     },
     "metadata": {},
     "output_type": "display_data"
    }
   ],
   "source": [
    "y_test,y_predict = split_fit_plot_predict(cnn_model,  esol_sequences, esol_maccs, esol_solubility_standard, esol_vocab_size, max_len_esol, \"esol\",\\\n",
    "                      batch_size=4, epochs=10)"
   ]
  },
  {
   "cell_type": "code",
   "execution_count": 10,
   "metadata": {},
   "outputs": [
    {
     "name": "stdout",
     "output_type": "stream",
     "text": [
      "(0.0, 24)\n"
     ]
    }
   ],
   "source": [
    "for i in range(len(y_test)):\n",
    "    item = y_test[i]\n",
    "    if item == 0:\n",
    "        print(item,i)"
   ]
  },
  {
   "cell_type": "code",
   "execution_count": 11,
   "metadata": {},
   "outputs": [],
   "source": [
    "for i in range(len(y_predict)):\n",
    "    item = y_predict[i]\n",
    "    if item == 0:\n",
    "        print(item,i)"
   ]
  },
  {
   "cell_type": "markdown",
   "metadata": {},
   "source": [
    "## Predictions "
   ]
  },
  {
   "cell_type": "code",
   "execution_count": 11,
   "metadata": {},
   "outputs": [
    {
     "name": "stdout",
     "output_type": "stream",
     "text": [
      "cnn_model\n",
      "_________________________________________________________________\n",
      "Layer (type)                 Output Shape              Param #   \n",
      "=================================================================\n",
      "embedding_4 (Embedding)      (None, 98, 32)            1056      \n",
      "_________________________________________________________________\n",
      "conv1d_7 (Conv1D)            (None, 98, 32)            3104      \n",
      "_________________________________________________________________\n",
      "max_pooling1d_7 (MaxPooling1 (None, 49, 32)            0         \n",
      "_________________________________________________________________\n",
      "conv1d_8 (Conv1D)            (None, 49, 32)            3104      \n",
      "_________________________________________________________________\n",
      "max_pooling1d_8 (MaxPooling1 (None, 24, 32)            0         \n",
      "_________________________________________________________________\n",
      "flatten_4 (Flatten)          (None, 768)               0         \n",
      "_________________________________________________________________\n",
      "dense_4 (Dense)              (None, 1)                 769       \n",
      "=================================================================\n",
      "Total params: 8,033\n",
      "Trainable params: 8,033\n",
      "Non-trainable params: 0\n",
      "_________________________________________________________________\n",
      "Train on 761 samples, validate on 85 samples\n",
      "Epoch 1/40\n",
      "761/761 [==============================] - 1s 2ms/step - loss: 2.5875 - mean_absolute_percentage_error: 89.1865 - val_loss: 0.7451 - val_mean_absolute_percentage_error: 35.2441\n",
      "Epoch 2/40\n",
      "761/761 [==============================] - 1s 2ms/step - loss: 0.6387 - mean_absolute_percentage_error: 51.4896 - val_loss: 0.3482 - val_mean_absolute_percentage_error: 23.2861\n",
      "Epoch 3/40\n",
      "761/761 [==============================] - 1s 2ms/step - loss: 0.3723 - mean_absolute_percentage_error: 37.0239 - val_loss: 0.3707 - val_mean_absolute_percentage_error: 21.1425\n",
      "Epoch 4/40\n",
      "761/761 [==============================] - 1s 2ms/step - loss: 0.3144 - mean_absolute_percentage_error: 31.3107 - val_loss: 0.2538 - val_mean_absolute_percentage_error: 18.0644\n",
      "Epoch 5/40\n",
      "761/761 [==============================] - 1s 2ms/step - loss: 0.2503 - mean_absolute_percentage_error: 27.5207 - val_loss: 0.2139 - val_mean_absolute_percentage_error: 17.8918\n",
      "Epoch 6/40\n",
      "761/761 [==============================] - 1s 2ms/step - loss: 0.2099 - mean_absolute_percentage_error: 25.6294 - val_loss: 0.1943 - val_mean_absolute_percentage_error: 16.0306\n",
      "Epoch 7/40\n",
      "761/761 [==============================] - 1s 2ms/step - loss: 0.1728 - mean_absolute_percentage_error: 22.3408 - val_loss: 0.1807 - val_mean_absolute_percentage_error: 15.6456\n",
      "Epoch 8/40\n",
      "761/761 [==============================] - 1s 2ms/step - loss: 0.1629 - mean_absolute_percentage_error: 22.4311 - val_loss: 0.1669 - val_mean_absolute_percentage_error: 14.8036\n",
      "Epoch 9/40\n",
      "761/761 [==============================] - 1s 2ms/step - loss: 0.1382 - mean_absolute_percentage_error: 19.7654 - val_loss: 0.2326 - val_mean_absolute_percentage_error: 16.2042\n",
      "Epoch 10/40\n",
      "761/761 [==============================] - 1s 2ms/step - loss: 0.1400 - mean_absolute_percentage_error: 19.1311 - val_loss: 0.2118 - val_mean_absolute_percentage_error: 16.1639\n",
      "Epoch 11/40\n",
      "761/761 [==============================] - 1s 2ms/step - loss: 0.1274 - mean_absolute_percentage_error: 17.3548 - val_loss: 0.1716 - val_mean_absolute_percentage_error: 14.8009\n",
      "Epoch 12/40\n",
      "761/761 [==============================] - 1s 2ms/step - loss: 0.1203 - mean_absolute_percentage_error: 18.2239 - val_loss: 0.1743 - val_mean_absolute_percentage_error: 14.7915\n",
      "Epoch 13/40\n",
      "761/761 [==============================] - 1s 2ms/step - loss: 0.0951 - mean_absolute_percentage_error: 15.9154 - val_loss: 0.2159 - val_mean_absolute_percentage_error: 15.5972\n",
      "282/282 [==============================] - 0s 85us/step\n",
      "('Test mape%:', 24.23025902957781)\n",
      "('History saved successfully', 'history_esol_cnn_model_dropout_0_epochs_40_batch_4_lr_0.001.pkl')\n",
      "Stats saved in model/stats_esol_cnn_model_dropout_0_epochs_40_batch_4_lr_0.001\n"
     ]
    },
    {
     "data": {
      "image/png": "[encoded data removed]",
      "text/plain": [
       "<Figure size 432x288 with 1 Axes>"
      ]
     },
     "metadata": {},
     "output_type": "display_data"
    }
   ],
   "source": [
    "split_fit_plot_predict(cnn_model,  esol_sequences, esol_maccs, esol_solubility, esol_vocab_size, max_len_esol, \"esol\",\\\n",
    "                      batch_size=4, epochs=40)"
   ]
  },
  {
   "cell_type": "code",
   "execution_count": 7,
   "metadata": {},
   "outputs": [
    {
     "name": "stdout",
     "output_type": "stream",
     "text": [
      "rnn_model\n"
     ]
    },
    {
     "ename": "NameError",
     "evalue": "global name 'model_type' is not defined",
     "output_type": "error",
     "traceback": [
      "\u001b[0;31m---------------------------------------------------------------------------\u001b[0m",
      "\u001b[0;31mNameError\u001b[0m                                 Traceback (most recent call last)",
      "\u001b[0;32m<ipython-input-7-94cd5b37b3a4>\u001b[0m in \u001b[0;36m<module>\u001b[0;34m()\u001b[0m\n\u001b[0;32m----> 1\u001b[0;31m \u001b[0msplit_fit_plot_predict\u001b[0m\u001b[0;34m(\u001b[0m\u001b[0mrnn_model\u001b[0m\u001b[0;34m,\u001b[0m  \u001b[0mesol_sequences\u001b[0m\u001b[0;34m,\u001b[0m \u001b[0mesol_maccs\u001b[0m\u001b[0;34m,\u001b[0m \u001b[0mesol_solubility\u001b[0m\u001b[0;34m,\u001b[0m \u001b[0mesol_vocab_size\u001b[0m\u001b[0;34m,\u001b[0m \u001b[0mmax_len_esol\u001b[0m\u001b[0;34m,\u001b[0m \u001b[0;34m\"esol\"\u001b[0m\u001b[0;34m,\u001b[0m                      \u001b[0mbatch_size\u001b[0m\u001b[0;34m=\u001b[0m\u001b[0;36m4\u001b[0m\u001b[0;34m,\u001b[0m \u001b[0mepochs\u001b[0m\u001b[0;34m=\u001b[0m\u001b[0;36m40\u001b[0m\u001b[0;34m)\u001b[0m\u001b[0;34m\u001b[0m\u001b[0m\n\u001b[0m",
      "\u001b[0;32m/home/apx748/CEP/run_eval.pyc\u001b[0m in \u001b[0;36msplit_fit_plot_predict\u001b[0;34m(model_arch, X1, X2, Y, vocab, max_len, prefix, dropout, gate, optimizer, lr, epochs, batch_size)\u001b[0m\n\u001b[1;32m     48\u001b[0m             \u001b[0mmodel_name\u001b[0m \u001b[0;34m=\u001b[0m \u001b[0mmodel_name\u001b[0m\u001b[0;34m.\u001b[0m\u001b[0mreplace\u001b[0m\u001b[0;34m(\u001b[0m\u001b[0;34m\"rnn\"\u001b[0m\u001b[0;34m,\u001b[0m\u001b[0mgate\u001b[0m\u001b[0;34m)\u001b[0m\u001b[0;34m\u001b[0m\u001b[0m\n\u001b[1;32m     49\u001b[0m         \u001b[0;32melse\u001b[0m\u001b[0;34m:\u001b[0m\u001b[0;34m\u001b[0m\u001b[0m\n\u001b[0;32m---> 50\u001b[0;31m              \u001b[0mmodel\u001b[0m \u001b[0;34m=\u001b[0m \u001b[0mmodel_arch\u001b[0m\u001b[0;34m(\u001b[0m\u001b[0mdropout\u001b[0m\u001b[0;34m=\u001b[0m\u001b[0mdropout\u001b[0m\u001b[0;34m,\u001b[0m\u001b[0moptimizer\u001b[0m\u001b[0;34m=\u001b[0m\u001b[0moptimizer\u001b[0m\u001b[0;34m,\u001b[0m\u001b[0mlr\u001b[0m\u001b[0;34m=\u001b[0m\u001b[0mlr\u001b[0m\u001b[0;34m,\u001b[0m\u001b[0mvocab\u001b[0m\u001b[0;34m=\u001b[0m\u001b[0mvocab\u001b[0m\u001b[0;34m,\u001b[0m\u001b[0mmax_len\u001b[0m\u001b[0;34m=\u001b[0m\u001b[0mmax_len\u001b[0m\u001b[0;34m)\u001b[0m\u001b[0;34m\u001b[0m\u001b[0m\n\u001b[0m\u001b[1;32m     51\u001b[0m \u001b[0;34m\u001b[0m\u001b[0m\n\u001b[1;32m     52\u001b[0m         history = model.fit(X1_train, y_train, shuffle=True, validation_split=0.1,\\\n",
      "\u001b[0;32m/home/apx748/CEP/eval_class_util.py\u001b[0m in \u001b[0;36mrnn_model\u001b[0;34m(optimizer, lr, dropout, gate, gated_layers, num_gated_connections, vocab, embedding_length, max_len)\u001b[0m\n\u001b[1;32m     49\u001b[0m         \u001b[0moptimizer\u001b[0m \u001b[0;34m=\u001b[0m \u001b[0mtf\u001b[0m\u001b[0;34m.\u001b[0m\u001b[0mtrain\u001b[0m\u001b[0;34m.\u001b[0m\u001b[0mAdamOptimizer\u001b[0m\u001b[0;34m(\u001b[0m\u001b[0mlr\u001b[0m\u001b[0;34m)\u001b[0m\u001b[0;34m\u001b[0m\u001b[0m\n\u001b[1;32m     50\u001b[0m \u001b[0;34m\u001b[0m\u001b[0m\n\u001b[0;32m---> 51\u001b[0;31m     \u001b[0;32mif\u001b[0m \u001b[0mmodel_type\u001b[0m \u001b[0;34m==\u001b[0m \u001b[0;34m\"classification\"\u001b[0m\u001b[0;34m:\u001b[0m\u001b[0;34m\u001b[0m\u001b[0m\n\u001b[0m\u001b[1;32m     52\u001b[0m         \u001b[0mmodel\u001b[0m\u001b[0;34m.\u001b[0m\u001b[0madd\u001b[0m\u001b[0;34m(\u001b[0m\u001b[0mDense\u001b[0m\u001b[0;34m(\u001b[0m\u001b[0;36m1\u001b[0m\u001b[0;34m,\u001b[0m\u001b[0mactivation\u001b[0m\u001b[0;34m=\u001b[0m\u001b[0;34m'sigmoid'\u001b[0m\u001b[0;34m)\u001b[0m\u001b[0;34m)\u001b[0m\u001b[0;34m\u001b[0m\u001b[0m\n\u001b[1;32m     53\u001b[0m         \u001b[0mmodel\u001b[0m\u001b[0;34m.\u001b[0m\u001b[0mcompile\u001b[0m\u001b[0;34m(\u001b[0m\u001b[0mloss\u001b[0m\u001b[0;34m=\u001b[0m\u001b[0;34m'binary_crossentropy'\u001b[0m\u001b[0;34m,\u001b[0m\u001b[0moptimizer\u001b[0m\u001b[0;34m=\u001b[0m\u001b[0moptimizer\u001b[0m\u001b[0;34m,\u001b[0m\u001b[0mmetrics\u001b[0m\u001b[0;34m=\u001b[0m\u001b[0;34m[\u001b[0m\u001b[0;34m'acc'\u001b[0m\u001b[0;34m,\u001b[0m \u001b[0mprecision\u001b[0m\u001b[0;34m,\u001b[0m\u001b[0mrecall\u001b[0m\u001b[0;34m,\u001b[0m\u001b[0mauc\u001b[0m\u001b[0;34m]\u001b[0m\u001b[0;34m)\u001b[0m\u001b[0;34m\u001b[0m\u001b[0m\n",
      "\u001b[0;31mNameError\u001b[0m: global name 'model_type' is not defined"
     ]
    }
   ],
   "source": []
  },
  {
   "cell_type": "code",
   "execution_count": null,
   "metadata": {},
   "outputs": [],
   "source": []
  }
 ],
 "metadata": {
  "kernelspec": {
   "display_name": "Python 2",
   "language": "python",
   "name": "python2"
  },
  "language_info": {
   "codemirror_mode": {
    "name": "ipython",
    "version": 2
   },
   "file_extension": ".py",
   "mimetype": "text/x-python",
   "name": "python",
   "nbconvert_exporter": "python",
   "pygments_lexer": "ipython2",
   "version": "2.7.12"
  }
 },
 "nbformat": 4,
 "nbformat_minor": 2
}
